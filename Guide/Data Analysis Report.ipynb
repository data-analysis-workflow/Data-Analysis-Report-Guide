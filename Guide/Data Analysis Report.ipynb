{
 "cells": [
  {
   "cell_type": "markdown",
   "metadata": {},
   "source": [
    "# **Data Analysis Report**"
   ]
  },
  {
   "attachments": {
    "image.png": {
     "image/png": "[encoded data removed]"
    }
   },
   "cell_type": "markdown",
   "metadata": {},
   "source": [
    "![image.png](attachment:image.png)"
   ]
  },
  {
   "cell_type": "markdown",
   "metadata": {},
   "source": [
    "------------------------------------------------------------------------------------------------------------------------------------------------------------"
   ]
  },
  {
   "cell_type": "markdown",
   "metadata": {},
   "source": [
    "# **Types of Report**"
   ]
  },
  {
   "cell_type": "markdown",
   "metadata": {},
   "source": [
    "**Informational**\n",
    "- Factual information\n",
    "- Short\n",
    "- Not strict structure\n",
    "- Inform about facts\n",
    "\n",
    "**Analytical**\n",
    "- Analysis (relationships/recommendations)\n",
    "- Varies (short or long)\n",
    "- Strict structure\n",
    "- Data-driven decisions\n",
    "\n",
    "**Final report**\n",
    "\n",
    "Elements\n",
    "- Data analysis\n",
    "- Findings and results\n",
    "- Visuals\n",
    "\n",
    "Format\n",
    "- Long\n",
    "\n",
    "Audience\n",
    "- Details\n",
    "\n",
    "**Summary report**\n",
    "\n",
    "Elements\n",
    "- Key findings and recommendations\n",
    "- Visuals\n",
    "\n",
    "Format\n",
    "- Short (< 5 pages)\n",
    "- Summary of final report\n",
    "- Link to main document\n",
    "\n",
    "Audience\n",
    "- No need for details"
   ]
  },
  {
   "cell_type": "markdown",
   "metadata": {},
   "source": [
    "------------------------------------------------------------------------------------------------------------------------------------------------------------"
   ]
  },
  {
   "cell_type": "markdown",
   "metadata": {},
   "source": [
    "# **Report structure**"
   ]
  },
  {
   "cell_type": "markdown",
   "metadata": {},
   "source": [
    "**Introduction**\n",
    "- Purpose\n",
    "  - Analysis of the product reviews gathered from website\n",
    "  - Rating prediction based on review\n",
    "  - Contextual information\n",
    "- Increase in negative reviews\n",
    "  - Question of analysis\n",
    "  - Factor affecting bad user experience\n",
    "\n",
    "**Body**\n",
    "- Data\n",
    "  - Description and tables\n",
    "- Methods\n",
    "  - NLP and Random Forest\n",
    "- Analysis\n",
    "  - Visuals\n",
    "    - Graphs with most common words\n",
    "- Results\n",
    "  - Description and visuals\n",
    "    - 30% negative ratings associated with words \"delayed\" and \"shipping\".\n",
    "\n",
    "**Conclusions**\n",
    "- Restate question\n",
    "- Summarize important results\n",
    "- Add recommendations"
   ]
  },
  {
   "cell_type": "markdown",
   "metadata": {},
   "source": [
    "**Format**\n",
    "\n",
    "- Business context\n",
    "- 1-3-25\n",
    "  - 1 page of abstract\n",
    "    - ? 3 pages of executive summary\n",
    "     - ? 25 pages of detail"
   ]
  },
  {
   "cell_type": "markdown",
   "metadata": {},
   "source": [
    "------------------------------------------------------------------------------------------------------------------------------------------------------------"
   ]
  },
  {
   "cell_type": "markdown",
   "metadata": {},
   "source": [
    "# **Audience**"
   ]
  },
  {
   "cell_type": "markdown",
   "metadata": {},
   "source": [
    "- People with little time\n",
    "  - Introduction\n",
    "  - Conclusion\n",
    "  - Scan body\n",
    "\n",
    "- Customer or internal collaborator\n",
    "- Executive team\n",
    "  - Scan introduction and conclusions\n",
    "  - Recommendations\n",
    "\n",
    "- Technical stakeholder\n",
    "  - Body"
   ]
  },
  {
   "cell_type": "markdown",
   "metadata": {},
   "source": [
    "------------------------------------------------------------------------------------------------------------------------------------------------------------"
   ]
  },
  {
   "cell_type": "markdown",
   "metadata": {},
   "source": [
    "# **Tips in making a report**"
   ]
  },
  {
   "cell_type": "markdown",
   "metadata": {},
   "source": [
    "**Empty phrases**\n",
    "\n",
    "Contain no information\n",
    "- It is interesting to note that\n",
    "- The fact that\n",
    "- It should be pointed out that\n",
    "- It is well known that\n",
    "- It is obvious that\n",
    "\n",
    "Distracting\n",
    "\n",
    "==> should be removed\n",
    "\n",
    "examples:\n",
    "\n",
    "good:\n",
    "- Negative ratings are associated with the words \"delayed\" and \"shipping\"\n",
    "\n",
    "bad:\n",
    "- Another important point is the fact that negative ratings were associated with the words \"delayed\" and \"shipping\""
   ]
  },
  {
   "cell_type": "markdown",
   "metadata": {},
   "source": [
    "**Concrete nouns**\n",
    "\n",
    "- Write concrete nouns\n",
    "- Avoid \"this\", \"that\", \"it\"\n",
    "  - Adds cognitive load\n",
    "  - Distracts them from insights\n",
    "\n",
    "examples:\n",
    "\n",
    "bad:\n",
    "- This shows an accuracy of 80% when predicting customer churn.\n",
    "\n",
    "good:\n",
    "- The model shows an accuracy of 80% when predicting customer churn."
   ]
  },
  {
   "cell_type": "markdown",
   "metadata": {},
   "source": [
    "**More pronouns**\n",
    "\n",
    "- The active voice is criticized for placing the emphasis on the author instead of the facts. \n",
    "- The passive voice is criticized for being too stuffy and harder to read. \n",
    "- If the passive voice is preferred in an academic setting, in a business context your message will probably land better using the active voice."
   ]
  },
  {
   "cell_type": "markdown",
   "metadata": {},
   "source": [
    "**Redundant adjectives and adverbs**\n",
    "\n",
    "- When trying to emphasize an argument, it is easy to end up using redundant adjectives and adverbs. \n",
    "- Some examples are introducing the new, or done previously. \n",
    "- In order to keep the report concise, we should eliminate these redundant adjectives or adverbs.\n",
    "  \n",
    "Phrases that say the same thing twice\n",
    "- Introduce a new\n",
    "- Done previously\n",
    "- Eliminate redundant adjective and adverbs"
   ]
  },
  {
   "cell_type": "markdown",
   "metadata": {},
   "source": [
    "**Run-on sentences**\n",
    "\n",
    "- Lastly, run-on sentences are two or more independent sentences or clauses that are connected or punctuated incorrectly. \n",
    "- For example, the sentence in the slide is run-on. \n",
    "- It is composed of two full sentences but connected by a comma. \n",
    "- To fix these sentences, we should either make two separate clauses or use dependent clauses by introducing words like because or so."
   ]
  },
  {
   "cell_type": "markdown",
   "metadata": {},
   "source": [
    "Two or more independent clauses connected incorrectly\n",
    "- There is a correlation between delayed shipping and customer rating, the shipping delay is the cause for negative review.\n",
    "\n",
    "Correction\n",
    "- Make two sentences\n",
    "- Use dependent clause"
   ]
  }
 ],
 "metadata": {
  "language_info": {
   "name": "python"
  }
 },
 "nbformat": 4,
 "nbformat_minor": 2
}
